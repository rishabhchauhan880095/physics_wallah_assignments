{
 "cells": [
  {
   "cell_type": "code",
   "execution_count": 1,
   "id": "e48cc341",
   "metadata": {},
   "outputs": [],
   "source": [
    "#q1, def keyword is used .\n",
    "def odd_list(a,b):\n",
    "    l1=[]\n",
    "    for i in range(a,b):\n",
    "        if (i%2!=0):\n",
    "            l1.append(i)\n",
    "    return l1"
   ]
  },
  {
   "cell_type": "code",
   "execution_count": 2,
   "id": "46cc794f",
   "metadata": {},
   "outputs": [
    {
     "data": {
      "text/plain": [
       "[1, 3, 5, 7, 9, 11, 13, 15, 17, 19, 21, 23]"
      ]
     },
     "execution_count": 2,
     "metadata": {},
     "output_type": "execute_result"
    }
   ],
   "source": [
    "odd=odd_list(1,25)\n",
    "odd"
   ]
  },
  {
   "cell_type": "code",
   "execution_count": 3,
   "id": "05a09301",
   "metadata": {},
   "outputs": [
    {
     "data": {
      "text/plain": [
       "((1, 2, 3), {'a': 12, 'b': [1, 2, 3], 'c': (1, 33, 44)})"
      ]
     },
     "execution_count": 3,
     "metadata": {},
     "output_type": "execute_result"
    }
   ],
   "source": [
    "#q2.\n",
    "def func1(*args,**kwargs):\n",
    "    return args,kwargs\n",
    "\n",
    "f1=func1(1,2,3,a=12,b=[1,2,3],c=(1,33,44))\n",
    "f1"
   ]
  },
  {
   "cell_type": "code",
   "execution_count": 5,
   "id": "9997f95d",
   "metadata": {},
   "outputs": [
    {
     "name": "stdout",
     "output_type": "stream",
     "text": [
      "2\n",
      "4\n",
      "6\n",
      "8\n",
      "10\n"
     ]
    }
   ],
   "source": [
    "#q3.\n",
    "l2=[2, 4, 6, 8, 10, 12, 14, 16,\n",
    "18, 20]\n",
    "l2=iter(l2)\n",
    "\n",
    "print(next(l2))\n",
    "print(next(l2))\n",
    "print(next(l2))\n",
    "print(next(l2))\n",
    "print(next(l2))"
   ]
  },
  {
   "cell_type": "code",
   "execution_count": 10,
   "id": "962a1251",
   "metadata": {},
   "outputs": [
    {
     "name": "stdout",
     "output_type": "stream",
     "text": [
      "0 1 1 2 3 5 8 13 21 34 55 89 0\n",
      "1\n",
      "1\n"
     ]
    }
   ],
   "source": [
    "#q4. using yield in place of print in range function is an example of generator function.\n",
    "def fibonaci_1(n):\n",
    "    a,b=0,1\n",
    "    for i in range(n):\n",
    "        yield a\n",
    "        a,b =b,a+b\n",
    "        \n",
    "fb=fibonaci_1(12)\n",
    "for i in fb:\n",
    "    print(i,end=\" \")\n",
    "yo=fibonaci_1(3)\n",
    "print(next(yo))\n",
    "print(next(yo))"
   ]
  },
  {
   "cell_type": "code",
   "execution_count": 15,
   "id": "bac95372",
   "metadata": {},
   "outputs": [
    {
     "name": "stdout",
     "output_type": "stream",
     "text": [
      "2 3 5 7 11 13 17 19 23 29 31 37 41 43 47 53 59 61 67 71 73 79 83 89 97 101 103 107 109 113 127 131 137 139 149 151 157 163 167 173 179 181 191 193 197 199 211 223 227 229 233 239 241 251 257 263 269 271 277 281 283 293 307 311 313 317 331 337 347 349 353 359 367 373 379 383 389 397 401 409 419 421 431 433 439 443 449 457 461 463 467 479 487 491 499 503 509 521 523 541 547 557 563 569 571 577 587 593 599 601 607 613 617 619 631 641 643 647 653 659 661 673 677 683 691 701 709 719 727 733 739 743 751 757 761 769 773 787 797 809 811 821 823 827 829 839 853 857 859 863 877 881 883 887 907 911 919 929 937 941 947 953 967 971 977 983 991 997 "
     ]
    }
   ],
   "source": [
    "def isPrime(n) :\n",
    "    \n",
    "    if (n <= 1) :\n",
    "        return False\n",
    "    if (n <= 3) :\n",
    "        return True\n",
    "  \n",
    "   \n",
    "    if (n % 2 == 0 or n % 3 == 0) :\n",
    "        return False\n",
    "  \n",
    "    i = 5\n",
    "    while(i * i <= n) :\n",
    "        if (n % i == 0 or n % (i + 2) == 0) :\n",
    "            return False\n",
    "        i = i + 6\n",
    "  \n",
    "    return True\n",
    " \n",
    "def printPrime(n):\n",
    "    for i in range(2, n + 1):\n",
    "        if isPrime(i):\n",
    "            print (i, end =\" \")\n",
    "  \n",
    "n = 1000           \n",
    "printPrime(n)"
   ]
  },
  {
   "cell_type": "code",
   "execution_count": null,
   "id": "09831828",
   "metadata": {},
   "outputs": [],
   "source": []
  }
 ],
 "metadata": {
  "kernelspec": {
   "display_name": "Python 3 (ipykernel)",
   "language": "python",
   "name": "python3"
  },
  "language_info": {
   "codemirror_mode": {
    "name": "ipython",
    "version": 3
   },
   "file_extension": ".py",
   "mimetype": "text/x-python",
   "name": "python",
   "nbconvert_exporter": "python",
   "pygments_lexer": "ipython3",
   "version": "3.9.12"
  }
 },
 "nbformat": 4,
 "nbformat_minor": 5
}
